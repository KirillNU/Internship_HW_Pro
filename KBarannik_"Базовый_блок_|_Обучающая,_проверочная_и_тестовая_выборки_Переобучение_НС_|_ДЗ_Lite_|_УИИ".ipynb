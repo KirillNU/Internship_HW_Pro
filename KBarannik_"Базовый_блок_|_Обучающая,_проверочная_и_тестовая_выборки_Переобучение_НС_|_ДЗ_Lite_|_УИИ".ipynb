{
  "nbformat": 4,
  "nbformat_minor": 0,
  "metadata": {
    "colab": {
      "provenance": [],
      "include_colab_link": true
    },
    "kernelspec": {
      "name": "python3",
      "display_name": "Python 3"
    },
    "language_info": {
      "name": "python"
    },
    "gpuClass": "standard"
  },
  "cells": [
    {
      "cell_type": "markdown",
      "metadata": {
        "id": "view-in-github",
        "colab_type": "text"
      },
      "source": [
        "<a href=\"https://colab.research.google.com/github/KirillNU/Internship_HW_Pro/blob/master/KBarannik_%22%D0%91%D0%B0%D0%B7%D0%BE%D0%B2%D1%8B%D0%B9_%D0%B1%D0%BB%D0%BE%D0%BA_%7C_%D0%9E%D0%B1%D1%83%D1%87%D0%B0%D1%8E%D1%89%D0%B0%D1%8F%2C_%D0%BF%D1%80%D0%BE%D0%B2%D0%B5%D1%80%D0%BE%D1%87%D0%BD%D0%B0%D1%8F_%D0%B8_%D1%82%D0%B5%D1%81%D1%82%D0%BE%D0%B2%D0%B0%D1%8F_%D0%B2%D1%8B%D0%B1%D0%BE%D1%80%D0%BA%D0%B8_%D0%9F%D0%B5%D1%80%D0%B5%D0%BE%D0%B1%D1%83%D1%87%D0%B5%D0%BD%D0%B8%D0%B5_%D0%9D%D0%A1_%7C_%D0%94%D0%97_Lite_%7C_%D0%A3%D0%98%D0%98%22.ipynb\" target=\"_parent\"><img src=\"https://colab.research.google.com/assets/colab-badge.svg\" alt=\"Open In Colab\"/></a>"
      ]
    },
    {
      "cell_type": "markdown",
      "metadata": {
        "id": "_0527B7Z6fN3"
      },
      "source": [
        "#Задание"
      ]
    },
    {
      "cell_type": "markdown",
      "metadata": {
        "id": "tyt7Xg5G4nVe"
      },
      "source": [
        "Используя шаблон ноутбука для распознавания видов одежды и аксессуаров из набора **fashion_mnist**, выполните следующие действия:\n",
        "\n",
        "1. Создайте **9** моделей нейронной сети с различными архитектурами и сравните в них значения точности на проверочной выборке (на последней эпохе) и на тестовой выборке.  Используйте следующее деление: обучающая выборка - **50000** примеров, проверочная выборка - **10000** примеров, тестовая выборка - **10000** примеров.\n",
        "\n",
        "2. Заполните сравнительную таблицу в конце ноутбука, напишите свои выводы по результатам проведенных тестов."
      ]
    },
    {
      "cell_type": "markdown",
      "metadata": {
        "id": "MYbDjFwh6w5f"
      },
      "source": [
        "# Шаблон ноутбука"
      ]
    },
    {
      "cell_type": "markdown",
      "metadata": {
        "id": "iKVf4kq5_LkZ"
      },
      "source": [
        "##Импорт библиотек"
      ]
    },
    {
      "cell_type": "code",
      "metadata": {
        "id": "b2-CygQC2DMy"
      },
      "source": [
        "# Последовательная модель НС\n",
        "from tensorflow.keras.models import Sequential  \n",
        "\n",
        "# Основные слои\n",
        "from tensorflow.keras.layers import Dense, Activation, Dropout, BatchNormalization \n",
        "\n",
        "# Утилиты для to_categorical()\n",
        "from tensorflow.keras import utils   \n",
        "\n",
        "# Алгоритмы оптимизации для обучения модели\n",
        "from tensorflow.keras.optimizers import Adam, Adadelta \n",
        "\n",
        "# Библиотека для работы с массивами\n",
        "import numpy as np \n",
        "\n",
        "# Библиотека для работы с таблицами\n",
        "import pandas as pd     \n",
        "\n",
        "# Отрисовка графиков\n",
        "import matplotlib.pyplot as plt     \n",
        "\n",
        "# Связь с google-диском\n",
        "from google.colab import files   \n",
        "\n",
        "# Предварительная обработка данных\n",
        "from sklearn import preprocessing        \n",
        "\n",
        "# Разделение данных на выборки\n",
        "from sklearn.model_selection import train_test_split    \n",
        "\n",
        "# Для загрузки датасета\n",
        "from keras.datasets import fashion_mnist                   \n",
        "\n",
        "# Отрисовывать изображения в ноутбуке, а не в консоль или файл\n",
        "%matplotlib inline"
      ],
      "execution_count": null,
      "outputs": []
    },
    {
      "cell_type": "markdown",
      "metadata": {
        "id": "CgHbBuEU_Ied"
      },
      "source": [
        "##Описание базы"
      ]
    },
    {
      "cell_type": "markdown",
      "metadata": {
        "id": "Ts1x7caq8MAO"
      },
      "source": [
        "###База: одежда, обувь и аксессуары\n",
        "- Датасет состоит из набора изображений одежды, обуви, аксессуаров и их классов.\n",
        "- Изображения одного вида хранятся в numpy-массиве **(28, 28)** - **x_train, x_test**.\n",
        "- База содержит **10** классов: (Футболка, Брюки, Пуловер, Платье, Пальто, Сандалии/Босоножки, Рубашка, Кроссовки, Сумочка, Ботильоны) - **y_train, y_test**.\n",
        "- Примеров: train - **60000**, test - **10000**."
      ]
    },
    {
      "cell_type": "markdown",
      "metadata": {
        "id": "f7nIQfV8_FSt"
      },
      "source": [
        "###Вывод примеров"
      ]
    },
    {
      "cell_type": "code",
      "metadata": {
        "colab": {
          "base_uri": "https://localhost:8080/"
        },
        "id": "yHTW8aud4FV4",
        "outputId": "b49a775b-5150-444e-aefc-1b38fb012fd6"
      },
      "source": [
        "# Загрузка датасета\n",
        "(x_train, y_train), (x_test, y_test) = fashion_mnist.load_data()   \n",
        "\n",
        "# Вывод размерностей выборок\n",
        "\n",
        "print('Размер x_train:',x_train.shape)                             \n",
        "print('Размер y_train:',y_train.shape)\n",
        "print('Размер x_test:',x_test.shape)\n",
        "print('Размер y_test:',y_test.shape)"
      ],
      "execution_count": null,
      "outputs": [
        {
          "output_type": "stream",
          "name": "stdout",
          "text": [
            "Downloading data from https://storage.googleapis.com/tensorflow/tf-keras-datasets/train-labels-idx1-ubyte.gz\n",
            "29515/29515 [==============================] - 0s 0us/step\n",
            "Downloading data from https://storage.googleapis.com/tensorflow/tf-keras-datasets/train-images-idx3-ubyte.gz\n",
            "26421880/26421880 [==============================] - 2s 0us/step\n",
            "Downloading data from https://storage.googleapis.com/tensorflow/tf-keras-datasets/t10k-labels-idx1-ubyte.gz\n",
            "5148/5148 [==============================] - 0s 0us/step\n",
            "Downloading data from https://storage.googleapis.com/tensorflow/tf-keras-datasets/t10k-images-idx3-ubyte.gz\n",
            "4422102/4422102 [==============================] - 0s 0us/step\n",
            "Размер x_train: (60000, 28, 28)\n",
            "Размер y_train: (60000,)\n",
            "Размер x_test: (10000, 28, 28)\n",
            "Размер y_test: (10000,)\n"
          ]
        }
      ]
    },
    {
      "cell_type": "code",
      "metadata": {
        "colab": {
          "base_uri": "https://localhost:8080/",
          "height": 177
        },
        "id": "VKM4z51g3sSX",
        "outputId": "a922c0c4-73cf-4b81-97cc-080407c23da0"
      },
      "source": [
        "# Выбор 1 изображения каждого класса\n",
        "imgs = np.array([x_train[y_train==i][0] for i in range(10)])  \n",
        "\n",
        "# Соединение изображения в одну линию\n",
        "imgs = np.concatenate(imgs, axis=1)  \n",
        "\n",
        "# Создание поля для изображения\n",
        "plt.figure(figsize=(30, 6))   \n",
        "\n",
        "# Отрисовка итогового изображения\n",
        "plt.imshow(imgs, cmap='Greys')    \n",
        "\n",
        "# Без сетки\n",
        "#plt.grid(False) \n",
        "\n",
        "# Без осей\n",
        "plt.axis('off')  \n",
        "\n",
        "# Вывод результата\n",
        "plt.show() "
      ],
      "execution_count": null,
      "outputs": [
        {
          "output_type": "display_data",
          "data": {
            "text/plain": [
              "<Figure size 2160x432 with 1 Axes>"
            ],
            "image/png": "[encoded data removed]"
          },
          "metadata": {
            "needs_background": "light"
          }
        }
      ]
    },
    {
      "cell_type": "code",
      "metadata": {
        "id": "Sdh0t9_o4lAe",
        "colab": {
          "base_uri": "https://localhost:8080/"
        },
        "outputId": "e8f91581-75b8-4535-ccbc-c7aded246764"
      },
      "source": [
        "# Ваше решение\n",
        "CLASS_COUNT = 10\n",
        "x_train = x_train.reshape(x_train.shape[0], -1)\n",
        "x_test = x_test.reshape(x_test.shape[0], -1)\n",
        "# x_train = x_train.reshape(x_train.shape[0], 784)\n",
        "# x_test = x_test.reshape(x_test.shape[0], 784)\n",
        "x_train = x_train.astype('float32') / 255\n",
        "x_test = x_test.astype('float32') / 255\n",
        "y_train = utils.to_categorical(y_train, CLASS_COUNT)\n",
        "y_test = utils.to_categorical(y_test, CLASS_COUNT)\n",
        "print(x_train.shape)\n",
        "print(x_test.shape)\n",
        "print(y_train.shape)\n",
        "print(y_test.shape)"
      ],
      "execution_count": null,
      "outputs": [
        {
          "output_type": "stream",
          "name": "stdout",
          "text": [
            "(60000, 784)\n",
            "(10000, 784)\n",
            "(60000, 10)\n",
            "(10000, 10)\n"
          ]
        }
      ]
    },
    {
      "cell_type": "markdown",
      "source": [
        "Функция создания модели с 3-мя слоями, количеством нейронов, функцией активации, 0 - 2 drop слоями и параметром для drop"
      ],
      "metadata": {
        "id": "T7nzmdI-3b0y"
      }
    },
    {
      "cell_type": "markdown",
      "source": [
        "Функция создания модели с 3 слоями Dense и управления количестовм нейронов в первых 2-х слоях - l1_neuron, l2_neuron, заданием функции активации f_activ в первых 2-х слоях, добавлением Dropout слоёв для первых 2-х слоёв - drops и добавлением BatchNormalization слоёв - batch : 0 - BatchNormalization не добавляется, 1 - BatchNormalization перед в первым слой, 2 - BatchNormalization в первый и второй слой, если есть слои Dropout.\n",
        "Параметры batch_size и epoch  меняются при обучении модели"
      ],
      "metadata": {
        "id": "mmOoWVXnonUr"
      }
    },
    {
      "cell_type": "code",
      "source": [
        "def create_model_drop_batch(l1_neuron, l2_neuron, f_activ, drops, batch):\n",
        "    model = Sequential()\n",
        "    if drops == 0:\n",
        "      if batch == 0 or batch == 2:\n",
        "        model.add(Dense(l1_neuron, input_dim = 784, activation = f_activ))\n",
        "        model.add(Dense(l2_neuron, activation = f_activ))\n",
        "      else:\n",
        "        model.add(BatchNormalization(input_dim = 784))\n",
        "        model.add(Dense(l1_neuron, input_dim = 784, activation = f_activ))\n",
        "        model.add(Dense(l2_neuron, activation = f_activ))\n",
        "    elif drops == 1:\n",
        "      if batch == 0:\n",
        "        model.add(Dense(l1_neuron, input_dim = 784, activation = f_activ))\n",
        "        model.add(Dropout(0.3))\n",
        "        model.add(Dense(l2_neuron, activation = f_activ))\n",
        "      elif batch == 1:\n",
        "        model.add(BatchNormalization(input_dim = 784))\n",
        "        model.add(Dense(l1_neuron, input_dim = 784, activation = f_activ))\n",
        "        model.add(Dropout(0.3))\n",
        "        model.add(Dense(l2_neuron, activation = f_activ))\n",
        "      elif batch == 2:\n",
        "        model.add(BatchNormalization(input_dim = 784))\n",
        "        model.add(Dense(l1_neuron, input_dim = 784, activation = f_activ))\n",
        "        model.add(BatchNormalization())\n",
        "        model.add(Dropout(0.3))\n",
        "        model.add(Dense(l2_neuron, activation = f_activ))    \n",
        "    elif drops == 2:\n",
        "      if batch == 0:\n",
        "        model.add(Dense(l1_neuron, input_dim = 784, activation = f_activ))\n",
        "        model.add(Dropout(0.3))\n",
        "        model.add(Dense(l2_neuron, activation = f_activ))\n",
        "        model.add(Dropout(0.3))\n",
        "      elif batch == 1:\n",
        "        model.add(BatchNormalization(input_dim = 784))\n",
        "        model.add(Dense(l1_neuron, input_dim = 784, activation = f_activ))\n",
        "        model.add(Dropout(0.3))\n",
        "        model.add(Dense(l2_neuron, activation = f_activ))\n",
        "        model.add(Dropout(0.3))\n",
        "      elif batch == 2:\n",
        "        model.add(BatchNormalization(input_dim = 784))\n",
        "        model.add(Dense(l1_neuron, input_dim = 784, activation = f_activ))\n",
        "        model.add(BatchNormalization())\n",
        "        model.add(Dropout(0.3))\n",
        "        model.add(Dense(l2_neuron, activation = f_activ))\n",
        "        model.add(Dropout(0.3))\n",
        "\n",
        "    model.add(Dense(CLASS_COUNT, activation = 'softmax'))\n",
        "    model.compile(loss='categorical_crossentropy', optimizer=Adam(0.01),\n",
        "                  metrics=['accuracy'])\n",
        "    print(model.summary())\n",
        "    return model"
      ],
      "metadata": {
        "id": "wug2RoqydDF2"
      },
      "execution_count": null,
      "outputs": []
    },
    {
      "cell_type": "markdown",
      "source": [
        "Функция печати графика ошибки модели"
      ],
      "metadata": {
        "id": "xjLUbypx5ZSf"
      }
    },
    {
      "cell_type": "code",
      "source": [
        "def print_graph(model):\n",
        "    plt.plot(model.history['accuracy'], \n",
        "            label='Доля верных ответов на обучающем наборе')\n",
        "    plt.plot(model.history['val_accuracy'], \n",
        "            label='Доля верных ответов на проверочном наборе')\n",
        "    plt.xlabel('Эпоха обучения')\n",
        "    plt.ylabel('Доля верных ответов')\n",
        "    plt.legend()\n",
        "    plt.show()\n",
        "\n",
        "    plt.plot(model.history['loss'], \n",
        "            label='Ошибка на обучающем наборе')\n",
        "    plt.plot(model.history['val_loss'], \n",
        "            label='Ошибка на проверочном наборе')\n",
        "    plt.xlabel('Эпоха обучения')\n",
        "    plt.ylabel('Ошибка')\n",
        "    plt.legend()\n",
        "    plt.show()"
      ],
      "metadata": {
        "id": "9nO53KJwRCDk"
      },
      "execution_count": null,
      "outputs": []
    },
    {
      "cell_type": "code",
      "source": [
        "model_1 = create_model_drop_batch(2000, 200, 'relu', 2, 0)"
      ],
      "metadata": {
        "id": "a6jBu-yAGmm2"
      },
      "execution_count": null,
      "outputs": []
    },
    {
      "cell_type": "code",
      "source": [
        "utils.plot_model(model_1, to_file='model_plot.png', show_shapes=True, show_layer_names=True, show_layer_activations=True)"
      ],
      "metadata": {
        "id": "If990-RYH2y0"
      },
      "execution_count": null,
      "outputs": []
    },
    {
      "cell_type": "code",
      "source": [
        "model_f = model_1.fit(x_train,\n",
        "                    y_train,\n",
        "                    batch_size=100,\n",
        "                    validation_split=0.1,\n",
        "                    epochs=200,\n",
        "                    verbose=True, shuffle=True)"
      ],
      "metadata": {
        "id": "nWe9DoYlw_L0"
      },
      "execution_count": null,
      "outputs": []
    },
    {
      "cell_type": "markdown",
      "source": [
        "Альтернативный вариант разделения на обучающую и валидационную выборки."
      ],
      "metadata": {
        "id": "EHpQyGVbPYJc"
      }
    },
    {
      "cell_type": "code",
      "source": [
        "# model_f = model_1.fit(x_train[:50000],\n",
        "#                     y_train[:50000],\n",
        "#                     batch_size=128,\n",
        "#                     validation_data=(x_train[50000:], y_train[50000:]),\n",
        "#                     epochs=120,\n",
        "#                     verbose=True, shuffle=True)"
      ],
      "metadata": {
        "id": "mWDVz4hJshHI"
      },
      "execution_count": null,
      "outputs": []
    },
    {
      "cell_type": "markdown",
      "source": [
        "Графическое отображение результатов обучения."
      ],
      "metadata": {
        "id": "_Hr74JptQFn0"
      }
    },
    {
      "cell_type": "code",
      "source": [
        "print_graph(model_f)"
      ],
      "metadata": {
        "id": "VyqF1uRY3HIM"
      },
      "execution_count": null,
      "outputs": []
    },
    {
      "cell_type": "markdown",
      "source": [
        "Оценка качества обучения"
      ],
      "metadata": {
        "id": "DEwEU_Rh-DHa"
      }
    },
    {
      "cell_type": "code",
      "source": [
        "scores = model_1.evaluate(x_test, y_test, verbose=1)\n",
        "print('Процент верных ответов на тестовых данных:', round(scores[1],2) * 100, '%')"
      ],
      "metadata": {
        "id": "GqSXPLMd-B_7"
      },
      "execution_count": null,
      "outputs": []
    },
    {
      "cell_type": "markdown",
      "source": [
        "Результаты\n",
        "1. **Начальная модель без слоёв BatchNormalization и Dropou**t \n",
        "\n",
        "model_1 = create_model_drop_batch(800, 80, 'relu', 0, 0)\n",
        "  Model: \"sequential\"\n",
        "_________________________________________________________________\n",
        " Layer (type)                Output Shape              Param #   \n",
        "=================================================================\n",
        " dense (Dense)               (None, 800)               628000    \n",
        "                                                                 \n",
        " dense_1 (Dense)             (None, 80)                64080     \n",
        "                                                                 \n",
        " dense_2 (Dense)             (None, 10)                810       \n",
        "                                                                 \n",
        "=================================================================\n",
        "Total params: 692,890\n",
        "Trainable params: 692,890\n",
        "Non-trainable params: 0\n",
        "\n",
        "model_f = model_1.fit(x_train,\n",
        "                    y_train,\n",
        "                    batch_size=100,\n",
        "                    validation_split=0.1,\n",
        "                    epochs=200,\n",
        "                    verbose=True, shuffle=True)\n",
        "\n",
        "Epoch 200/200\n",
        "540/540 [==============================] - 2s 3ms/step - loss: 0.1522 - accuracy: 0.9486 - val_loss: 1.1369 - val_accuracy: 0.8700\n",
        "\n",
        "313/313 [==============================] - 1s 2ms/step - loss: 1.2361 - accuracy: 0.8703\n",
        "Процент верных ответов на тестовых данных: 87.0 %\n",
        "\n",
        "**Результат эксперимента 1: по графику ошибки наблюдается начало переобучения в районе 20-30 эпохи.**\n",
        "\n",
        "2. **Добавлени одного слоя Dropout**\n",
        "\n",
        "model_1 = create_model_drop_batch(800, 80, 'relu', 1, 0)\n",
        "\n",
        "Model: \"sequential_5\"\n",
        "_________________________________________________________________\n",
        " Layer (type)                Output Shape              Param #   \n",
        "=================================================================\n",
        " dense_15 (Dense)            (None, 800)               628000    \n",
        "                                                                 \n",
        " dropout_1 (Dropout)         (None, 800)               0         \n",
        "                                                                 \n",
        " dense_16 (Dense)            (None, 80)                64080     \n",
        "                                                                 \n",
        " dense_17 (Dense)            (None, 10)                810       \n",
        "                                                                 \n",
        "=================================================================\n",
        "Total params: 692,890\n",
        "Trainable params: 692,890\n",
        "Non-trainable params: 0\n",
        "_________________________________________________________________\n",
        "\n",
        "\n",
        "model_f = model_1.fit(x_train,\n",
        "                    y_train,\n",
        "                    batch_size=100,\n",
        "                    validation_split=0.1,\n",
        "                    epochs=200,\n",
        "                    verbose=True, shuffle=True)\n",
        "\n",
        "Epoch 200/200\n",
        "540/540 [==============================] - 2s 3ms/step - loss: 0.2750 - accuracy: 0.9011 - val_loss: 0.4860 - val_accuracy: 0.8803\n",
        "\n",
        "313/313 [==============================] - 1s 3ms/step - loss: 0.4840 - accuracy: 0.8730\n",
        "Процент верных ответов на тестовых данных: 87.0 %\n",
        "\n",
        "**Результат эксперимента 2: по графику ошибки эффект переобучения наблюдается позже по эпохам. Точность модели не меняется.**\n",
        "\n",
        "3. **Добавление к модели слоя BatchNormalization на входе и отключение слоя Dropout.**\n",
        "\n",
        "model_1 = create_model_drop_batch(800, 80, 'relu', 0, 1)\n",
        "\n",
        "Model: \"sequential_7\"\n",
        "_________________________________________________________________\n",
        " Layer (type)                Output Shape              Param #   \n",
        "=================================================================\n",
        " batch_normalization_3 (Batc  (None, 784)              3136      \n",
        " hNormalization)                                                 \n",
        "                                                                 \n",
        " dense_21 (Dense)            (None, 800)               628000    \n",
        "                                                                 \n",
        " dense_22 (Dense)            (None, 80)                64080     \n",
        "                                                                 \n",
        " dense_23 (Dense)            (None, 10)                810       \n",
        "                                                                 \n",
        "=================================================================\n",
        "Total params: 696,026\n",
        "Trainable params: 694,458\n",
        "Non-trainable params: 1,568\n",
        "\n",
        "model_f = model_1.fit(x_train,\n",
        "                    y_train,\n",
        "                    batch_size=100,\n",
        "                    validation_split=0.1,\n",
        "                    epochs=200,\n",
        "                    verbose=True, shuffle=True)\n",
        "\n",
        "Epoch 200/200\n",
        "540/540 [==============================] - 2s 3ms/step - loss: 0.5809 - accuracy: 0.8310 - val_loss: 2.0119 - val_accuracy: 0.7832\n",
        "\n",
        "313/313 [==============================] - 1s 2ms/step - loss: 5.0849 - accuracy: 0.7786\n",
        "Процент верных ответов на тестовых данных: 78.0 %\n",
        "\n",
        "**Результат эксперимента 3: по графику ошибки эффект переобучения заметно не меняется. Точность модели ухудшилась.**\n",
        "\n",
        "4. **Добавление к модели с BatchNormalization на входе и одного слоя Dropout.**\n",
        "\n",
        "model_1 = create_model_drop_batch(800, 80, 'relu', 1, 1)\n",
        "\n",
        "Model: \"sequential_9\"\n",
        "_________________________________________________________________\n",
        " Layer (type)                Output Shape              Param #   \n",
        "=================================================================\n",
        " batch_normalization_5 (Batc  (None, 784)              3136      \n",
        " hNormalization)                                                 \n",
        "                                                                 \n",
        " dense_27 (Dense)            (None, 800)               628000    \n",
        "                                                                 \n",
        " dropout_3 (Dropout)         (None, 800)               0         \n",
        "                                                                 \n",
        " dense_28 (Dense)            (None, 80)                64080     \n",
        "                                                                 \n",
        " dense_29 (Dense)            (None, 10)                810       \n",
        "                                                                 \n",
        "=================================================================\n",
        "Total params: 696,026\n",
        "Trainable params: 694,458\n",
        "Non-trainable params: 1,568\n",
        "\n",
        "model_f = model_1.fit(x_train,\n",
        "                    y_train,\n",
        "                    batch_size=100,\n",
        "                    validation_split=0.1,\n",
        "                    epochs=200,\n",
        "                    verbose=True, shuffle=True)\n",
        "\n",
        "Epoch 200/200\n",
        "540/540 [==============================] - 2s 5ms/step - loss: 0.8412 - accuracy: 0.7272 - val_loss: 1.5763 - val_accuracy: 0.7503\n",
        "\n",
        "313/313 [==============================] - 1s 4ms/step - loss: 0.9406 - accuracy: 0.7457\n",
        "Процент верных ответов на тестовых данных: 75.0 %\n",
        "\n",
        "**Результат эксперимента 4: по графику ошибки эффект переобучения заметно не меняется. Точность модели ещё ухудшилась.**\n",
        "\n",
        "5. **Модель с BatchNormalization на входе и 2 слоя Dropout**\n",
        "\n",
        "model_1 = create_model_drop_batch(800, 80, 'relu', 2, 1)\n",
        "\n",
        "Model: \"sequential_11\"\n",
        "_________________________________________________________________\n",
        " Layer (type)                Output Shape              Param #   \n",
        "=================================================================\n",
        " batch_normalization_8 (Batc  (None, 784)              3136      \n",
        " hNormalization)                                                 \n",
        "                                                                 \n",
        " dense_33 (Dense)            (None, 800)               628000    \n",
        "                                                                 \n",
        " dropout_5 (Dropout)         (None, 800)               0         \n",
        "                                                                 \n",
        " dense_34 (Dense)            (None, 80)                64080     \n",
        "                                                                 \n",
        " dropout_6 (Dropout)         (None, 80)                0         \n",
        "                                                                 \n",
        " dense_35 (Dense)            (None, 10)                810       \n",
        "                                                                 \n",
        "=================================================================\n",
        "Total params: 696,026\n",
        "Trainable params: 694,458\n",
        "Non-trainable params: 1,568\n",
        "\n",
        "model_f = model_1.fit(x_train,\n",
        "                    y_train,\n",
        "                    batch_size=100,\n",
        "                    validation_split=0.1,\n",
        "                    epochs=200,\n",
        "                    verbose=True, shuffle=True)\n",
        "\n",
        "Epoch 200/200\n",
        "540/540 [==============================] - 2s 4ms/step - loss: 0.8651 - accuracy: 0.7191 - val_loss: 0.8695 - val_accuracy: 0.7405\n",
        "\n",
        "313/313 [==============================] - 1s 3ms/step - loss: 0.7810 - accuracy: 0.7393\n",
        "Процент верных ответов на тестовых данных: 74.0 %\n",
        "\n",
        "\n",
        "\n",
        "**Результат эксперимента 5: по графику ошибки эффект переобучения заметно не меняется. Точность модели ещё более ухудшилась.**\n",
        "\n",
        "6. **Модель с увеличенным количеством нейронов во входном слое и без BatchNormalization и Dropout**\n",
        "\n",
        "model_1 = create_model_drop_batch(1000, 80, 'relu', 0, 0)\n",
        "\n",
        "Model: \"sequential_13\"\n",
        "_________________________________________________________________\n",
        " Layer (type)                Output Shape              Param #   \n",
        "=================================================================\n",
        " dense_39 (Dense)            (None, 1000)              785000    \n",
        "                                                                 \n",
        " dense_40 (Dense)            (None, 80)                80080     \n",
        "                                                                 \n",
        " dense_41 (Dense)            (None, 10)                810       \n",
        "                                                                 \n",
        "=================================================================\n",
        "Total params: 865,890\n",
        "Trainable params: 865,890\n",
        "Non-trainable params: 0\n",
        "\n",
        "model_f = model_1.fit(x_train,\n",
        "                    y_train,\n",
        "                    batch_size=100,\n",
        "                    validation_split=0.1,\n",
        "                    epochs=200,\n",
        "                    verbose=True, shuffle=True)\n",
        "\n",
        "Epoch 200/200\n",
        "540/540 [==============================] - 2s 4ms/step - loss: 0.1529 - accuracy: 0.9459 - val_loss: 0.9643 - val_accuracy: 0.8822\n",
        "\n",
        "313/313 [==============================] - 1s 2ms/step - loss: 1.1051 - accuracy: 0.8718\n",
        "Процент верных ответов на тестовых данных: 87.0 %\n",
        "\n",
        "**Результат эксперимента 6:  Точность вернулась на уровень эксперимента 1. Также стал заметно увеличение эффекта переобучения.  **\n",
        "\n",
        "7. **Модель с увеличенным количеством нейронов во входном и внутреннем слоях и без BatchNormalization и Dropout**\n",
        "\n",
        "\n",
        "model_1 = create_model_drop_batch(1000, 160, 'relu', 0, 0)\n",
        "Model: \"sequential_15\"\n",
        "_________________________________________________________________\n",
        " Layer (type)                Output Shape              Param #   \n",
        "=================================================================\n",
        " dense_45 (Dense)            (None, 1000)              785000    \n",
        "                                                                 \n",
        " dense_46 (Dense)            (None, 160)               160160    \n",
        "                                                                 \n",
        " dense_47 (Dense)            (None, 10)                1610      \n",
        "                                                                 \n",
        "=================================================================\n",
        "Total params: 946,770\n",
        "Trainable params: 946,770\n",
        "Non-trainable params: 0\n",
        "\n",
        "model_f = model_1.fit(x_train,\n",
        "                    y_train,\n",
        "                    batch_size=100,\n",
        "                    validation_split=0.1,\n",
        "                    epochs=200,\n",
        "                    verbose=True, shuffle=True)\n",
        "\n",
        "Epoch 200/200\n",
        "540/540 [==============================] - 2s 3ms/step - loss: 0.1602 - accuracy: 0.9422 - val_loss: 0.9836 - val_accuracy: 0.8745\n",
        "\n",
        "313/313 [==============================] - 1s 2ms/step - loss: 1.2280 - accuracy: 0.8728\n",
        "Процент верных ответов на тестовых данных: 87.0 %\n",
        "\n",
        "\n",
        "\n",
        "**Результат эксперимента 7:  Точность и переобучение заметно не изменились по сравнению с экспериментом 6. Но и не ухудшились в сравнении с экспериментами с лушими показателями качества. **\n",
        "\n",
        "8. **Модель, как в экперименте 7 и BatchNormalization в входном слое**\n",
        "\n",
        "model_1 = create_model_drop_batch(1000, 160, 'relu', 0, 1)\n",
        "\n",
        "_________________________________________________________________\n",
        " Layer (type)                Output Shape              Param #   \n",
        "=================================================================\n",
        " dense_15 (Dense)            (None, 800)               628000    \n",
        "                                                                 \n",
        " dropout_1 (Dropout)         (None, 800)               0         \n",
        "                                                                 \n",
        " dense_16 (Dense)            (None, 80)                64080     \n",
        "                                                                 \n",
        " dense_17 (Dense)            (None, 10)                810       \n",
        "                                                                 \n",
        "=================================================================\n",
        "Total params: 692,890\n",
        "Trainable params: 692,890\n",
        "Non-trainable params: 0\n",
        "\n",
        "model_f = model_1.fit(x_train,\n",
        "                    y_train,\n",
        "                    batch_size=100,\n",
        "                    validation_split=0.1,\n",
        "                    epochs=200,\n",
        "                    verbose=True, shuffle=True)\n",
        "Epoch 200/200\n",
        "540/540 [==============================] - 2s 3ms/step - loss: 0.5216 - accuracy: 0.8370 - val_loss: 1.3119 - val_accuracy: 0.8182\n",
        "\n",
        "313/313 [==============================] - 1s 2ms/step - loss: 3.5330 - accuracy: 0.8118\n",
        "Процент верных ответов на тестовых данных: 81.0 %\n",
        "\n",
        "8. **Результат эксперимента 8: Качество модели ухудшилось. И по экспериментам в целом BatchNormalization ухудшает точность модели.**\n",
        "\n",
        "9. **Модель с увеличенным количеством нейронов в слоях и 2 слоями Dropout.**\n",
        "\n",
        "model_1 = create_model_drop_batch(2000, 200, 'relu', 2, 0)\n",
        "Model: \"sequential_17\"\n",
        "_________________________________________________________________\n",
        " Layer (type)                Output Shape              Param #   \n",
        "=================================================================\n",
        " dense_51 (Dense)            (None, 2000)              1570000   \n",
        "                                                                 \n",
        " dropout_9 (Dropout)         (None, 2000)              0         \n",
        "                                                                 \n",
        " dense_52 (Dense)            (None, 200)               400200    \n",
        "                                                                 \n",
        " dropout_10 (Dropout)        (None, 200)               0         \n",
        "                                                                 \n",
        " dense_53 (Dense)            (None, 10)                2010      \n",
        "                                                                 \n",
        "=================================================================\n",
        "Total params: 1,972,210\n",
        "Trainable params: 1,972,210\n",
        "Non-trainable params: 0\n",
        "\n",
        "model_f = model_1.fit(x_train,\n",
        "                    y_train,\n",
        "                    batch_size=100,\n",
        "                    validation_split=0.1,\n",
        "                    epochs=200,\n",
        "                    verbose=True, shuffle=True)\n",
        "\n",
        "Epoch 200/200\n",
        "540/540 [==============================] - 2s 3ms/step - loss: 0.4970 - accuracy: 0.8196 - val_loss: 0.7659 - val_accuracy: 0.8585\n",
        "313/313 [==============================] - 1s 2ms/step - loss: 0.7347 - accuracy: 0.8492\n",
        "Процент верных ответов на тестовых данных: 85.0 %\n",
        "\n",
        "9.**Результат эксперимента 9: При уменьшении точности модели уменьшается эффект переобучения.**\n",
        "\n",
        "\n",
        "**Общий вывод: продолжать эксперименты в направлении увеличение числа нейронов и изменения параметров batch size и количества epoch.**"
      ],
      "metadata": {
        "id": "tViF3xg4ZG58"
      }
    }
  ]
}